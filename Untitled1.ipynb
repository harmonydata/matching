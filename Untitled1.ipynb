{
 "cells": [
  {
   "cell_type": "code",
   "execution_count": 1,
   "id": "c39e53a7",
   "metadata": {},
   "outputs": [],
   "source": [
    "from selenium.webdriver.chrome import webdriver\n",
    "from selenium.webdriver.common.by import By\n",
    "from selenium.webdriver.common.keys import Keys\n",
    "driver = webdriver.WebDriver()\n",
    "\n"
   ]
  },
  {
   "cell_type": "code",
   "execution_count": 2,
   "id": "7377337e",
   "metadata": {},
   "outputs": [],
   "source": [
    "driver.get(\"https://fastdatascience.com/semantic-similarity-with-sentence-embeddings/\")"
   ]
  },
  {
   "cell_type": "code",
   "execution_count": null,
   "id": "e18d1160",
   "metadata": {},
   "outputs": [],
   "source": [
    "time.sleep(15)"
   ]
  },
  {
   "cell_type": "code",
   "execution_count": 3,
   "id": "38103a56",
   "metadata": {},
   "outputs": [],
   "source": [
    "\n",
    "text_element = driver.find_element(By.XPATH, \"//textarea[@id='embeddingtext1']\")"
   ]
  },
  {
   "cell_type": "code",
   "execution_count": 13,
   "id": "4877378e",
   "metadata": {},
   "outputs": [],
   "source": [
    "vec1 = driver.find_element(By.XPATH, \"//div[@id='vec1']\")"
   ]
  },
  {
   "cell_type": "code",
   "execution_count": 15,
   "id": "62294c4e",
   "metadata": {},
   "outputs": [
    {
     "ename": "KeyboardInterrupt",
     "evalue": "",
     "output_type": "error",
     "traceback": [
      "\u001b[0;31m---------------------------------------------------------------------------\u001b[0m",
      "\u001b[0;31mKeyboardInterrupt\u001b[0m                         Traceback (most recent call last)",
      "Cell \u001b[0;32mIn[15], line 27\u001b[0m\n\u001b[1;32m     24\u001b[0m button \u001b[38;5;241m=\u001b[39m driver\u001b[38;5;241m.\u001b[39mfind_element(By\u001b[38;5;241m.\u001b[39mXPATH, \u001b[38;5;124m\"\u001b[39m\u001b[38;5;124m//button[@id=\u001b[39m\u001b[38;5;124m'\u001b[39m\u001b[38;5;124mmybutton\u001b[39m\u001b[38;5;124m'\u001b[39m\u001b[38;5;124m]\u001b[39m\u001b[38;5;124m\"\u001b[39m)\n\u001b[1;32m     25\u001b[0m button\u001b[38;5;241m.\u001b[39mclick()\n\u001b[0;32m---> 27\u001b[0m time\u001b[38;5;241m.\u001b[39msleep(\u001b[38;5;241m5\u001b[39m)\n\u001b[1;32m     29\u001b[0m vec1 \u001b[38;5;241m=\u001b[39m driver\u001b[38;5;241m.\u001b[39mfind_element(By\u001b[38;5;241m.\u001b[39mXPATH, \u001b[38;5;124m\"\u001b[39m\u001b[38;5;124m//div[@id=\u001b[39m\u001b[38;5;124m'\u001b[39m\u001b[38;5;124mvec1\u001b[39m\u001b[38;5;124m'\u001b[39m\u001b[38;5;124m]\u001b[39m\u001b[38;5;124m\"\u001b[39m)\n\u001b[1;32m     31\u001b[0m question_to_vector[question_text] \u001b[38;5;241m=\u001b[39m vec1\n",
      "\u001b[0;31mKeyboardInterrupt\u001b[0m: "
     ]
    }
   ],
   "source": [
    "import os\n",
    "import time\n",
    "import re\n",
    "\n",
    "import numpy as np\n",
    "\n",
    "import evaluation_helper\n",
    "\n",
    "re_tokeniser = re.compile(r'([a-z]+)')\n",
    "\n",
    "question_to_vector = {}\n",
    "\n",
    "for input_file, data in evaluation_helper.get_datasets():\n",
    "    all_questions = list(sorted(set(data.text_1).union(set(data.text_2))))\n",
    "    \n",
    "    for question_idx, question_text in enumerate(all_questions):\n",
    "        for i in range(100):\n",
    "            text_element.send_keys(Keys.BACK_SPACE)\n",
    "        text_element.send_keys(question_text)\n",
    "    \n",
    "        time.sleep(5)\n",
    "        \n",
    "        \n",
    "        button = driver.find_element(By.XPATH, \"//button[@id='mybutton']\")\n",
    "        button.click()\n",
    "        \n",
    "        time.sleep(5)\n",
    "        \n",
    "        vec1 = driver.find_element(By.XPATH, \"//div[@id='vec1']\")\n",
    "        \n",
    "        question_to_vector[question_text] = vec1"
   ]
  },
  {
   "cell_type": "code",
   "execution_count": null,
   "id": "25abaadd",
   "metadata": {},
   "outputs": [],
   "source": [
    "import json\n",
    "with open(\"10a_tensorflow_js_vectors.json\", \"w\", encoding=\"utf-8\") as f:\n",
    "    f.write(json.dumps(question_to_vector))"
   ]
  },
  {
   "cell_type": "code",
   "execution_count": null,
   "id": "55c00095",
   "metadata": {},
   "outputs": [],
   "source": []
  }
 ],
 "metadata": {
  "kernelspec": {
   "display_name": "Python 3 (ipykernel)",
   "language": "python",
   "name": "python3"
  },
  "language_info": {
   "codemirror_mode": {
    "name": "ipython",
    "version": 3
   },
   "file_extension": ".py",
   "mimetype": "text/x-python",
   "name": "python",
   "nbconvert_exporter": "python",
   "pygments_lexer": "ipython3",
   "version": "3.11.3"
  }
 },
 "nbformat": 4,
 "nbformat_minor": 5
}
