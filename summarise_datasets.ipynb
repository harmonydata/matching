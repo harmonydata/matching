{
 "cells": [
  {
   "cell_type": "code",
   "execution_count": 6,
   "id": "832c52da-aa6c-4510-8bd1-64324e9e7b84",
   "metadata": {},
   "outputs": [
    {
     "name": "stdout",
     "output_type": "stream",
     "text": [
      "gad_7_multilingual.csv 3486\n",
      "mcelroy_adulthood_binary.csv 9730\n",
      "doxa_train_need_to_replace_with_test_continuous.csv 2351\n",
      "gad_7_multilingual_binary.csv 3570\n",
      "mcelroy_cosine_correlation_continuous.csv 741\n",
      "mcelroy_childhood_binary.csv 43956\n"
     ]
    }
   ],
   "source": [
    "import evaluation_helper\n",
    "\n",
    "for input_file, data in evaluation_helper.get_datasets():\n",
    "    print(input_file, len(data))"
   ]
  }
 ],
 "metadata": {
  "kernelspec": {
   "display_name": "Harmony (Anaconda)",
   "language": "python",
   "name": "harmonyanaconda"
  },
  "language_info": {
   "codemirror_mode": {
    "name": "ipython",
    "version": 3
   },
   "file_extension": ".py",
   "mimetype": "text/x-python",
   "name": "python",
   "nbconvert_exporter": "python",
   "pygments_lexer": "ipython3",
   "version": "3.11.11"
  }
 },
 "nbformat": 4,
 "nbformat_minor": 5
}
