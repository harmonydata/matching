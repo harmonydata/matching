{
 "cells": [
  {
   "cell_type": "code",
   "execution_count": 66,
   "id": "1a1cb365",
   "metadata": {},
   "outputs": [],
   "source": [
    "import harmony"
   ]
  },
  {
   "cell_type": "code",
   "execution_count": 81,
   "id": "feb8865a",
   "metadata": {},
   "outputs": [],
   "source": [
    "all_questions_seen = []\n",
    "all_idxs = []\n",
    "for instrument_name, instrument in harmony.example_instruments.items():\n",
    "    if \"GAD\" in instrument_name:\n",
    "        for question_idx, question in enumerate(instrument.questions):\n",
    "            all_questions_seen.append(question.question_text)\n",
    "            all_idxs.append(question_idx)"
   ]
  },
  {
   "cell_type": "code",
   "execution_count": 84,
   "id": "be4bbbf6",
   "metadata": {},
   "outputs": [],
   "source": [
    "text_1 = []\n",
    "text_2 = []\n",
    "matches = []\n",
    "for q1_idx in range(len(all_questions_seen)):\n",
    "    for q2_idx in range(q1_idx + 1, len(all_questions_seen)):\n",
    "        text_1.append(all_questions_seen[q1_idx])\n",
    "        text_2.append(all_questions_seen[q2_idx])\n",
    "\n",
    "        cat1 = all_idxs[q1_idx]\n",
    "        cat2 = all_idxs[q2_idx]\n",
    "\n",
    "        is_match = int(cat1==cat2)\n",
    "\n",
    "        matches.append(is_match)"
   ]
  },
  {
   "cell_type": "code",
   "execution_count": 86,
   "id": "beb9e014",
   "metadata": {},
   "outputs": [],
   "source": [
    "df = pd.DataFrame({\"text_1\": text_1, \"text_2\": text_2, \"match\": matches})\n",
    "\n",
    "df.to_csv(f\"gad_7_multilingual.csv\", index=False, sep=\"\\t\")"
   ]
  },
  {
   "cell_type": "code",
   "execution_count": null,
   "id": "fee3fcea",
   "metadata": {},
   "outputs": [],
   "source": []
  }
 ],
 "metadata": {
  "kernelspec": {
   "display_name": "Python 3 (ipykernel)",
   "language": "python",
   "name": "python3"
  },
  "language_info": {
   "codemirror_mode": {
    "name": "ipython",
    "version": 3
   },
   "file_extension": ".py",
   "mimetype": "text/x-python",
   "name": "python",
   "nbconvert_exporter": "python",
   "pygments_lexer": "ipython3",
   "version": "3.11.3"
  }
 },
 "nbformat": 4,
 "nbformat_minor": 5
}
