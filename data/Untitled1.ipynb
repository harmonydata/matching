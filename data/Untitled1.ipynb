{
 "cells": [
  {
   "cell_type": "code",
   "execution_count": 2,
   "id": "8641a8ad-3869-4564-a084-c5b9221f2a69",
   "metadata": {},
   "outputs": [],
   "source": [
    "import pandas as pd"
   ]
  },
  {
   "cell_type": "code",
   "execution_count": 10,
   "id": "91418008-9aef-4821-a35a-fabf90217c59",
   "metadata": {},
   "outputs": [],
   "source": [
    "df = pd.read_csv(\"mcelroy_cosine_correlation.csv\", sep=\"\\t\")"
   ]
  },
  {
   "cell_type": "code",
   "execution_count": 11,
   "id": "1992b35b-5153-4643-a4cc-9eca53c1c487",
   "metadata": {},
   "outputs": [],
   "source": [
    "df[[\"text_1\", \"text_2\", \"y\"]].to_csv(\"mcelroy_cosine_correlation.csv\",  index=False, sep=\"\\t\")"
   ]
  },
  {
   "cell_type": "code",
   "execution_count": null,
   "id": "57892bd0-f6a0-4182-9ccb-007b0d88674d",
   "metadata": {},
   "outputs": [],
   "source": [
    "df = pd.read_csv(\"doxa_train_need_to_replace_with_test.csv\", sep=\",\")"
   ]
  }
 ],
 "metadata": {
  "kernelspec": {
   "display_name": "Python 3.11",
   "language": "python",
   "name": "py311"
  },
  "language_info": {
   "codemirror_mode": {
    "name": "ipython",
    "version": 3
   },
   "file_extension": ".py",
   "mimetype": "text/x-python",
   "name": "python",
   "nbconvert_exporter": "python",
   "pygments_lexer": "ipython3",
   "version": "3.11.11"
  }
 },
 "nbformat": 4,
 "nbformat_minor": 5
}
