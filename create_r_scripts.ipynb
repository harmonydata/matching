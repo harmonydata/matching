{
 "cells": [
  {
   "cell_type": "code",
   "execution_count": 54,
   "id": "685007c5-c45a-425a-a24d-e373080c4e32",
   "metadata": {},
   "outputs": [],
   "source": [
    "r_template_1 = \"\"\"---\n",
    "title: \"TITLE\"\n",
    "output: html_document\n",
    "date: \"2025-01-27\"\n",
    "---\n",
    "\n",
    "```{r}\n",
    "library(ggplot2)\n",
    "```\n",
    "\n",
    "```{r}\n",
    "questions = read.csv(\"data/INPUTFILE\", sep=\"\\t\")\n",
    "```\n",
    "\"\"\"\n",
    "\n",
    "r_template_2 = \"\"\"\n",
    "## Evaluate MODEL on DATASET\n",
    "\n",
    "```{r}\n",
    "results = read.csv(\"output/OUTPUTFILE\", sep=\"\\t\")\n",
    "```\n",
    "\n",
    "```{r}\n",
    "results$y = questions$y\n",
    "```\n",
    "\n",
    "```{r}\n",
    "model = lm(results$y_pred ~ questions$y)\n",
    "summary(model)\n",
    "```\n",
    "\n",
    "```{r}\n",
    "ggplot(results, aes(x = y, y = y_pred) ) + geom_point() + geom_smooth(method = \"lm\") + ggtitle(\"DATASET: predictions of model\\\\nMODEL\\\\nvs ground truth (y)\")\n",
    "```\"\"\""
   ]
  },
  {
   "cell_type": "code",
   "execution_count": 55,
   "id": "b365e674-1073-452b-8553-9c4599e0fe4c",
   "metadata": {},
   "outputs": [],
   "source": [
    "import os, re"
   ]
  },
  {
   "cell_type": "code",
   "execution_count": 56,
   "id": "f02c9cb2-1987-4452-bd99-8f094ccc19e3",
   "metadata": {},
   "outputs": [],
   "source": [
    "output_files = set()\n",
    "input_files= set()\n",
    "for file in os.listdir(\"output\"):\n",
    "    if file.endswith(\"csv\") and \"continuous\" in file:\n",
    "        output_files.add(file)\n",
    "for file in os.listdir(\"data\"):\n",
    "    if file.endswith(\"csv\") and \"continuous\" in file:\n",
    "        input_files.add(file)"
   ]
  },
  {
   "cell_type": "code",
   "execution_count": null,
   "id": "9970e99c-6536-4c26-b7aa-48043f2969ff",
   "metadata": {},
   "outputs": [],
   "source": []
  },
  {
   "cell_type": "code",
   "execution_count": 57,
   "id": "52601154-9961-478f-8fdf-c1ad502b0806",
   "metadata": {},
   "outputs": [],
   "source": [
    "for input_file in sorted(input_files):\n",
    "    dataset_name = re.sub('_', ' ', re.sub(r'.csv$', '', input_file)).title()\n",
    "    md = re.sub(\"TITLE\", \"Evaluation of models on dataset: \" + dataset_name, r_template_1)\n",
    "    md = re.sub(\"INPUTFILE\", input_file, md)\n",
    "    for output_file in sorted(output_files):\n",
    "        if input_file in output_file:\n",
    "            model_name = re.sub('_model_on_.+', '', output_file)\n",
    "            \n",
    "            new_segment = re.sub(\"OUTPUTFILE\", output_file, r_template_2)\n",
    "            new_segment = re.sub(\"MODEL\", model_name, new_segment)\n",
    "            new_segment = re.sub(\"MODEL\", model_name, new_segment)\n",
    "            new_segment = re.sub(\"DATASET\", dataset_name, new_segment)\n",
    "            new_segment = re.sub(\"DATASET\", dataset_name, new_segment)\n",
    "            \n",
    "            md += new_segment\n",
    "    \n",
    "    with open(\"evaluate_\" + re.sub('_continuous.csv', \"\", input_file) + \".Rmd\", \"w\", encoding=\"utf-8\") as f:\n",
    "        f.write(md)"
   ]
  },
  {
   "cell_type": "code",
   "execution_count": null,
   "id": "1e9b78fb-8fb0-4783-b3d5-a777732f81db",
   "metadata": {},
   "outputs": [],
   "source": []
  },
  {
   "cell_type": "code",
   "execution_count": null,
   "id": "a21e53cf-9c14-48cf-b1da-bf170d01019d",
   "metadata": {},
   "outputs": [],
   "source": []
  },
  {
   "cell_type": "code",
   "execution_count": null,
   "id": "34c4e204-1db4-4a0c-85f3-4d9325230ddb",
   "metadata": {},
   "outputs": [],
   "source": []
  }
 ],
 "metadata": {
  "kernelspec": {
   "display_name": "Python 3 (ipykernel)",
   "language": "python",
   "name": "python3"
  },
  "language_info": {
   "codemirror_mode": {
    "name": "ipython",
    "version": 3
   },
   "file_extension": ".py",
   "mimetype": "text/x-python",
   "name": "python",
   "nbconvert_exporter": "python",
   "pygments_lexer": "ipython3",
   "version": "3.10.12"
  }
 },
 "nbformat": 4,
 "nbformat_minor": 5
}
